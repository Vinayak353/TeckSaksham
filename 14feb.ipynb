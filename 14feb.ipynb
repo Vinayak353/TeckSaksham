{
 "cells": [
  {
   "cell_type": "code",
   "execution_count": null,
   "id": "76166ca2-3e6c-4eb0-b861-fd4ffcf496f4",
   "metadata": {},
   "outputs": [],
   "source": [
    "str1 = \"Walchand Institute of technology\""
   ]
  },
  {
   "cell_type": "code",
   "execution_count": 6,
   "id": "0d9f8c34-c8c4-4c56-bf5a-21fb6c7975bf",
   "metadata": {},
   "outputs": [
    {
     "name": "stdout",
     "output_type": "stream",
     "text": [
      "57500\n"
     ]
    }
   ],
   "source": [
    "bill=0\n",
    "unit=3550\n",
    "if(unit>0):\n",
    "    bill=bill+((unit-1000)*0.18)\n",
    "    bill=bill+((1000-500)*0.16)\n",
    "    bill=bill+((500-300)*0.14)\n",
    "    bill=bill+((300-200)*0.08)\n",
    "\n",
    "print(bill)\n",
    "    "
   ]
  },
  {
   "cell_type": "code",
   "execution_count": 28,
   "id": "170e05bb-a23e-460f-a863-621033e45175",
   "metadata": {},
   "outputs": [
    {
     "name": "stdout",
     "output_type": "stream",
     "text": [
      "694000.0\n"
     ]
    }
   ],
   "source": [
    "taxamt=0\n",
    "tax=0\n",
    "sal=4500000\n",
    "saving=150000\n",
    "if(saving<=200000):\n",
    "    taxamt=sal-saving\n",
    "\n",
    "if(taxamt>=2200000):\n",
    "    if(taxamt>2200000):\n",
    "        tax=tax+((4500000-2200000)*0.18)\n",
    "if(taxamt)\n",
    "\n",
    "print(tax+280000)"
   ]
  },
  {
   "cell_type": "code",
   "execution_count": 38,
   "id": "8ad0fb04-67a5-4753-8ed6-e2807bf0b3d1",
   "metadata": {},
   "outputs": [
    {
     "name": "stdout",
     "output_type": "stream",
     "text": [
      "\n"
     ]
    }
   ],
   "source": [
    "str1 = \"Walchand Institute of technology\"\n",
    "newstr=\"\"\n",
    "str1.replace(\"a\",\"+\")\n",
    "\n",
    "print(newstr)"
   ]
  },
  {
   "cell_type": "code",
   "execution_count": 40,
   "id": "f4a4ca34-5576-4492-8745-7734605b2b07",
   "metadata": {},
   "outputs": [
    {
     "name": "stdout",
     "output_type": "stream",
     "text": [
      "7\n"
     ]
    }
   ],
   "source": [
    "name=\"Vinayak\"\n",
    "count=0\n",
    "for ch in name:\n",
    "    count+=1\n",
    "\n",
    "print(count)"
   ]
  },
  {
   "cell_type": "code",
   "execution_count": 50,
   "id": "ef729e69-a72e-428f-a7bb-fa30d0c65c66",
   "metadata": {},
   "outputs": [
    {
     "data": {
      "text/plain": [
       "6"
      ]
     },
     "execution_count": 50,
     "metadata": {},
     "output_type": "execute_result"
    }
   ],
   "source": [
    "def findcount(naam):\n",
    "    c=0\n",
    "    for ch in naam:\n",
    "        c+=1\n",
    "    return c    \n",
    "findcount(\"Aditya\")"
   ]
  },
  {
   "cell_type": "code",
   "execution_count": 13,
   "id": "65b6ca86-4125-4063-b4c8-4a95c7491694",
   "metadata": {},
   "outputs": [
    {
     "name": "stdout",
     "output_type": "stream",
     "text": [
      "hELLO wORLD\n"
     ]
    }
   ],
   "source": [
    "#Convert small to big and big to small\n",
    "def convert(sentence):\n",
    "    newstr=\"\"\n",
    "    for ch in sentence: \n",
    "        if ord(ch)>=65 and ord(ch)<=90:\n",
    "            newstr+=chr(ord(ch)+32)\n",
    "        elif ord(ch)>=97 and ord(ch)<=122:\n",
    "            newstr+=chr(ord(ch)-32)\n",
    "        else:\n",
    "            newstr+=ch\n",
    "            \n",
    "    return newstr\n",
    "print(convert(\"Hello World\"))"
   ]
  },
  {
   "cell_type": "code",
   "execution_count": 15,
   "id": "d7848f3c-7034-4218-8839-3b0a54557d43",
   "metadata": {},
   "outputs": [
    {
     "name": "stdout",
     "output_type": "stream",
     "text": [
      "0  is less than 10 \n",
      " making it increment\n",
      "1  is less than 10 \n",
      " making it increment\n",
      "2  is less than 10 \n",
      " making it increment\n",
      "3  is less than 10 \n",
      " making it increment\n",
      "4  is less than 10 \n",
      " making it increment\n",
      "5  is less than 10 \n",
      " making it increment\n",
      "6  is less than 10 \n",
      " making it increment\n",
      "7  is less than 10 \n",
      " making it increment\n",
      "8  is less than 10 \n",
      " making it increment\n",
      "9  is less than 10 \n",
      " making it increment\n",
      "all done\n"
     ]
    }
   ],
   "source": [
    "x=0\n",
    "while(x<10):\n",
    "    print(x,\" is less than 10 \\n making it increment\")\n",
    "    x+=1\n",
    "else:\n",
    "    print(\"all done\")"
   ]
  },
  {
   "cell_type": "code",
   "execution_count": 17,
   "id": "f0b82217-ca4f-47ac-9cd8-079d20fb89b0",
   "metadata": {},
   "outputs": [
    {
     "name": "stdout",
     "output_type": "stream",
     "text": [
      "[100, 400, 900, 25]\n"
     ]
    }
   ],
   "source": [
    "lst=[10,20,30,5]\n",
    "lst1=[x**2 for x in lst]\n",
    "print(lst1)"
   ]
  },
  {
   "cell_type": "code",
   "execution_count": 169,
   "id": "5f3bd294-34a5-4daf-bc2e-fc15719cebbd",
   "metadata": {},
   "outputs": [
    {
     "name": "stdout",
     "output_type": "stream",
     "text": [
      "0 1 1 2 "
     ]
    }
   ],
   "source": [
    "#Fibonacci Series\n",
    "num=4\n",
    "i=0\n",
    "a,b,c=0,1,0\n",
    "if(num==1):\n",
    "    print(a)\n",
    "if(num==2):\n",
    "    print(a,b,end=\"\")\n",
    "if(num>2):\n",
    "    print(a,b,end=\" \")\n",
    "    while(i<num-2):\n",
    "            c=a+b\n",
    "            a=b\n",
    "            b=c\n",
    "            print(c,end=\" \")\n",
    "            i+=1\n",
    "        \n",
    "    \n",
    "    "
   ]
  },
  {
   "cell_type": "code",
   "execution_count": 21,
   "id": "afc5164e-7eb4-4c87-946b-c43ddac4a71f",
   "metadata": {},
   "outputs": [
    {
     "name": "stdout",
     "output_type": "stream",
     "text": [
      "enoyrevE olleH"
     ]
    }
   ],
   "source": [
    "#reverse the string\n",
    "sen=\"Hello Everyone\"\n",
    "x=len(sen)-1\n",
    "while(x!=-1):\n",
    "    print(sen[x],end=\"\")\n",
    "    x-=1"
   ]
  },
  {
   "cell_type": "code",
   "execution_count": 53,
   "id": "8fdc21f2-82ba-46e2-8df4-c24210f165ba",
   "metadata": {},
   "outputs": [
    {
     "name": "stdout",
     "output_type": "stream",
     "text": [
      "Even Indices: HloEeyn"
     ]
    }
   ],
   "source": [
    "sen=\"Hello Everyone\"\n",
    "x=len(sen)-1\n",
    "i=0\n",
    "print(\"Even Indices: \",end=\"\")\n",
    "while i<x:\n",
    "    if i%2==0:\n",
    "        print(sen[i],end=\"\")\n",
    "    i+=1\n",
    "    "
   ]
  },
  {
   "cell_type": "code",
   "execution_count": 55,
   "id": "929cf54f-309d-4d87-adac-5b08b849fa2a",
   "metadata": {},
   "outputs": [
    {
     "name": "stdout",
     "output_type": "stream",
     "text": [
      "Even Indices: el vroe"
     ]
    }
   ],
   "source": [
    "#Odd indices\n",
    "sen=\"Hello Everyone\"\n",
    "x=len(sen)\n",
    "i=0\n",
    "print(\"Even Indices: \",end=\"\")\n",
    "while i<x:\n",
    "    if i%2!=0:\n",
    "        print(sen[i],end=\"\")\n",
    "    i+=1\n",
    "    "
   ]
  },
  {
   "cell_type": "code",
   "execution_count": 27,
   "id": "4787ab25-6165-4de9-8769-fb1e0d70cbe2",
   "metadata": {},
   "outputs": [
    {
     "name": "stdout",
     "output_type": "stream",
     "text": [
      "aaIiueoeoooau \n",
      "That's All\n"
     ]
    }
   ],
   "source": [
    "#Vowels in String\n",
    "v=\"aeiouAEIOU\"\n",
    "string=\"Walchand Institute of Technology,Solapur\"\n",
    "x=len(string)-1\n",
    "i=0\n",
    "while(i<=x):\n",
    "    if(string[i] in v):\n",
    "        print(string[i],end=\"\")\n",
    "    i+=1\n",
    "else:\n",
    "    print(\" \\nThat's All\")"
   ]
  },
  {
   "cell_type": "code",
   "execution_count": 51,
   "id": "4e5de01b-729a-4552-be6f-78ba620ae6a4",
   "metadata": {},
   "outputs": [
    {
     "name": "stdout",
     "output_type": "stream",
     "text": [
      "2\n"
     ]
    }
   ],
   "source": [
    "def say_hello():\n",
    "    return 2\n",
    "\n",
    "print(say_hello())"
   ]
  },
  {
   "cell_type": "code",
   "execution_count": null,
   "id": "b0ea28a8-8def-486e-9a2e-8c8bb3321e59",
   "metadata": {},
   "outputs": [],
   "source": []
  },
  {
   "cell_type": "code",
   "execution_count": null,
   "id": "21d210e6-41e7-45b4-99c9-6971a04344fe",
   "metadata": {},
   "outputs": [],
   "source": []
  },
  {
   "cell_type": "code",
   "execution_count": null,
   "id": "3ff5f3b7-c9a4-42af-8bd0-6453e2edaf1f",
   "metadata": {},
   "outputs": [],
   "source": []
  }
 ],
 "metadata": {
  "kernelspec": {
   "display_name": "Python [conda env:anaconda3] *",
   "language": "python",
   "name": "conda-env-anaconda3-py"
  },
  "language_info": {
   "codemirror_mode": {
    "name": "ipython",
    "version": 3
   },
   "file_extension": ".py",
   "mimetype": "text/x-python",
   "name": "python",
   "nbconvert_exporter": "python",
   "pygments_lexer": "ipython3",
   "version": "3.12.7"
  }
 },
 "nbformat": 4,
 "nbformat_minor": 5
}
