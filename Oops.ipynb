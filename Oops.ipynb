{
 "cells": [
  {
   "cell_type": "code",
   "execution_count": 12,
   "id": "c57a8941-5c0e-457f-812b-7894aadf6097",
   "metadata": {},
   "outputs": [
    {
     "name": "stdout",
     "output_type": "stream",
     "text": [
      "Company:  Toyota \n",
      "Year:  2000\n"
     ]
    }
   ],
   "source": [
    "class car:\n",
    "    def __init__(self,brand,year):\n",
    "        self.brand = brand\n",
    "        self.year = year\n",
    "    def display(self):\n",
    "        print(\"Company: \",self.brand,\"\\nYear: \",self.year)\n",
    "    \n",
    "c1=car(\"Toyota\",2000)\n",
    "c1.display()"
   ]
  },
  {
   "cell_type": "code",
   "execution_count": 26,
   "id": "b735a438-aaf3-4641-b854-5ffcef0a8962",
   "metadata": {},
   "outputs": [
    {
     "name": "stdout",
     "output_type": "stream",
     "text": [
      "Company:  Toyota \n",
      "Carname:  Fortuner \n",
      "Price:  4800000 \n",
      "\n",
      "Company:  Volvo \n",
      "Carname:  XC90 \n",
      "Price:  15000000 \n",
      "\n"
     ]
    }
   ],
   "source": [
    "class vehicle:\n",
    "    def __init__(self,company,carname,price):\n",
    "        self.company = company\n",
    "        self.carname = carname\n",
    "        self.price = price\n",
    "    def display(self):\n",
    "        print(\"Company: \",self.company,\"\\nCarname: \",self.carname,\"\\nPrice: \",self.price,\"\\n\")\n",
    "\n",
    "v1 = vehicle(\"Toyota\",\"Fortuner\",4800000)\n",
    "v2 = vehicle(\"Volvo\",\"XC90\",\"15000000\")\n",
    "v1.display()  \n",
    "v2.display()       "
   ]
  },
  {
   "cell_type": "code",
   "execution_count": null,
   "id": "aafdee2f-6f16-4e74-9115-c4419e73f77e",
   "metadata": {},
   "outputs": [],
   "source": []
  },
  {
   "cell_type": "code",
   "execution_count": 10,
   "id": "4ebb351e-001b-4d24-870d-e36df81ba916",
   "metadata": {},
   "outputs": [
    {
     "data": {
      "text/plain": [
       "[10, 50, 80, 54, 58]"
      ]
     },
     "execution_count": 10,
     "metadata": {},
     "output_type": "execute_result"
    }
   ],
   "source": [
    "def checkeven(numlist):\n",
    "    evennum=[]\n",
    "    for num in numlist:\n",
    "        if(num%2==0):\n",
    "            evennum.append(num)\n",
    "    return evennum\n",
    "numlist=[10,50,80,45,35,59,63,54,58]\n",
    "checkeven(numlist)"
   ]
  },
  {
   "cell_type": "code",
   "execution_count": 104,
   "id": "8f72bf75-2b15-47d0-985a-8b583e40b67f",
   "metadata": {},
   "outputs": [
    {
     "name": "stdout",
     "output_type": "stream",
     "text": [
      "myname is Vinayak\n",
      "idnumber is 1833\n",
      "Post is HR\n",
      "Salary is 2500000\n"
     ]
    }
   ],
   "source": [
    "class Person(object):\n",
    "    def __init__(self,name,idnumber):\n",
    "        self.name = name\n",
    "        self.idnumber = idnumber\n",
    "    def display(self):\n",
    "        print(self.name,\" \",self.idnumber)\n",
    "    def details(self):\n",
    "        print(f\"myname is {self.name}\")\n",
    "        print(f\"idnumber is {self.idnumber}\")\n",
    "class  Employee(Person):\n",
    "    def __init__(self,name,idnumber,salary,post):\n",
    "        self.salary=salary\n",
    "        self.post=post\n",
    "        Person.__init__(self,name,idnumber)\n",
    "    def details(self):\n",
    "        print(f\"myname is {self.name}\")\n",
    "        print(f\"idnumber is {self.idnumber}\")\n",
    "        print(f\"Post is {self.post}\")\n",
    "        print(f\"Salary is {self.salary}\")\n",
    "    \n",
    "e1 = Employee(\"Vinayak\",1833,2500000,\"HR\")\n",
    "e1.details()\n"
   ]
  },
  {
   "cell_type": "code",
   "execution_count": 175,
   "id": "3edf8af7-bed4-4118-9351-3cdf9cc606ca",
   "metadata": {},
   "outputs": [
    {
     "name": "stdout",
     "output_type": "stream",
     "text": [
      "Father Name:  Karamchand   Father Age:  50\n",
      "Mother Name:  PutliBai   Mother Age:  45\n",
      "Child Name:  Mohandas   Child Age:  19\n",
      "\n",
      "Mohandas studies in the clg\n",
      "And He Says Aaag lage Basti me Apan apni masti Me \n",
      "\n",
      "Karamchand Drives a Car\n",
      "PutliBai cooks a meal\n"
     ]
    }
   ],
   "source": [
    "class Dad:\n",
    "    def __init__(self,name,age):\n",
    "        self.dname=name\n",
    "        self.dage=age\n",
    "\n",
    "    def details(self):\n",
    "        print(\"Father Name: \",self.dname)\n",
    "        print(\"Father Age: \",self.dage)\n",
    "\n",
    "    def drive(self):\n",
    "        print(f\"{self.dname} Drives a Car\")\n",
    "\n",
    "class Mom():\n",
    "     def __init__(self,name,age):\n",
    "        self.mname=name\n",
    "        self.mage=age\n",
    "\n",
    "     def details(self):\n",
    "         print(\"Mother Name: \",self.mname)\n",
    "         print(\"Mother Age: \",self.mage)\n",
    "\n",
    "     def cook(self):\n",
    "         print(f\"{self.mname} cooks a meal\")\n",
    "\n",
    "class Child(Dad,Mom):\n",
    "    def __init__(self,name,age,mname,mage,dname,dage):\n",
    "        self.name=name\n",
    "        self.age=age\n",
    "        Dad.__init__(self,dname,dage)\n",
    "        Mom.__init__(self,mname,mage)\n",
    "\n",
    "    def details(self):\n",
    "        print(\"Child Name: \",self.name)\n",
    "        print(\"Child Age: \",self.age)\n",
    "\n",
    "    def study(self):\n",
    "        print(f\"\\n{self.name} studies in the clg\")\n",
    "        print(\"And He Says Aaag lage Basti me Apan apni masti Me \\n\")\n",
    "        \n",
    "\n",
    "    def display(self):\n",
    "        print(\"Father Name: \",self.dname,\"  Father Age: \",self.dage)\n",
    "        print(\"Mother Name: \",self.mname,\"  Mother Age: \",self.mage)\n",
    "        print(\"Child Name: \",self.name, \"  Child Age: \",self.age)\n",
    "\n",
    "c1=Child(\"Mohandas\",19,\"PutliBai\",45,\"Karamchand\",50)\n",
    "c1.display()\n",
    "c1.study()\n",
    "d1=Dad(\"Karamchand\",50)\n",
    "d1.drive()\n",
    "m1=Mom(\"PutliBai\",45)\n",
    "m1.cook()"
   ]
  },
  {
   "cell_type": "code",
   "execution_count": 76,
   "id": "9b514416-43aa-4960-a7ca-7daf4b9421cc",
   "metadata": {},
   "outputs": [
    {
     "name": "stdout",
     "output_type": "stream",
     "text": [
      "1561  is not a Palindrome\n",
      "9 is a not Prime\n",
      "9  is Odd\n",
      "127\n"
     ]
    }
   ],
   "source": [
    "class Number:\n",
    "    def __init__(self,num):\n",
    "        self.num = num\n",
    "    \n",
    "    def ispalindrome(self):\n",
    "        if self.num[::-1] == self.num:\n",
    "            print(self.num,\" is a Palindrome\")\n",
    "        else:\n",
    "            print(self.num,\" is not a Palindrome\")\n",
    "\n",
    "    def isPrime(self):\n",
    "        x=0\n",
    "        if(self.num<=1):\n",
    "            print(self.num,\"is not a prime!!!!\")\n",
    "        else:\n",
    "            for i in range (2,(int(self.num//2))):\n",
    "                if(self.num%i==0):\n",
    "                    x=1\n",
    "                    break;\n",
    "            if x==0:\n",
    "                print(self.num,\"is Prime\")\n",
    "            else:\n",
    "                print(self.num,\"is a not Prime\")\n",
    "    \n",
    "    def iseven_or_odd(self):\n",
    "        if self.num%2==0:\n",
    "            print(self.num,\" is Even\")\n",
    "        else:\n",
    "            print(self.num,\" is Odd\")\n",
    "\n",
    "    def isArmstrong(self):\n",
    "        sum=0\n",
    "        num=self.num\n",
    "        temp=self.num\n",
    "        nu_digits=len(str(self.num))\n",
    "        while(num != 0):\n",
    "            sum+=((num%10)**nu_digits)\n",
    "            num=num//10\n",
    "            \n",
    "        print(sum)\n",
    "\n",
    "\n",
    "\n",
    "\n",
    "\n",
    "        \n",
    "        \n",
    "    \n",
    "                    \n",
    "\n",
    "n1=Number(\"1561\")\n",
    "n1.ispalindrome()\n",
    "n2=Number(9)\n",
    "n2.isPrime()\n",
    "n2.iseven_or_odd() \n",
    "n3=Number(151)\n",
    "n3.isArmstrong()"
   ]
  },
  {
   "cell_type": "code",
   "execution_count": 46,
   "id": "db7b29db-ff31-4b76-acda-57dbc3388b69",
   "metadata": {},
   "outputs": [
    {
     "name": "stdout",
     "output_type": "stream",
     "text": [
      "['Shayamchi Aai']\n",
      "['Shayamchi Aai', 'The Alchemist']\n",
      "['Shayamchi Aai']\n"
     ]
    }
   ],
   "source": [
    "class Books:\n",
    "    books=[]\n",
    "    def __init__(self,booktitle):\n",
    "        self.bt = booktitle\n",
    "    def addbook(self):\n",
    "        Books.books.append(self.bt)\n",
    "    def removebook(self):\n",
    "        Books.books.pop()\n",
    "    def display(self):\n",
    "        print(Books.books)\n",
    "\n",
    "b1=Books(\"Shayamchi Aai\")\n",
    "b1.addbook()\n",
    "b1.display()\n",
    "\n",
    "b2=Books(\"The Alchemist\")\n",
    "b2.addbook()\n",
    "b2.display()\n",
    "\n",
    "b2.removebook()\n",
    "b2.display()\n",
    "\n"
   ]
  },
  {
   "cell_type": "code",
   "execution_count": null,
   "id": "50138818-45de-4063-89f8-687a946a3d47",
   "metadata": {},
   "outputs": [],
   "source": []
  }
 ],
 "metadata": {
  "kernelspec": {
   "display_name": "Python [conda env:anaconda3] *",
   "language": "python",
   "name": "conda-env-anaconda3-py"
  },
  "language_info": {
   "codemirror_mode": {
    "name": "ipython",
    "version": 3
   },
   "file_extension": ".py",
   "mimetype": "text/x-python",
   "name": "python",
   "nbconvert_exporter": "python",
   "pygments_lexer": "ipython3",
   "version": "3.12.7"
  }
 },
 "nbformat": 4,
 "nbformat_minor": 5
}
