{
 "cells": [
  {
   "cell_type": "code",
   "execution_count": 11,
   "id": "8b307e24-085c-4253-9325-d4b3c95e6d7d",
   "metadata": {},
   "outputs": [
    {
     "name": "stdin",
     "output_type": "stream",
     "text": [
      "Enter your weight in kg:  70\n",
      "Enter your height in meters:  1.8\n"
     ]
    },
    {
     "name": "stdout",
     "output_type": "stream",
     "text": [
      "Your BMI is: 21.60\n",
      "Interpretation: Normal weight\n"
     ]
    }
   ],
   "source": [
    "def calculate_bmi(weight, height):\n",
    "    bmi = weight / (height ** 2)\n",
    "    return bmi\n",
    "\n",
    "def interpret_bmi(bmi):\n",
    "    if bmi < 18.5:\n",
    "        return \"Underweight\"\n",
    "    elif 18.5 <= bmi < 25:\n",
    "        return \"Normal weight\"\n",
    "    elif 25 <= bmi < 30:\n",
    "        return \"Slightly overweight\"\n",
    "    elif 30 <= bmi < 35:\n",
    "        return \"Obese\"\n",
    "    else:\n",
    "        return \"Clinically obese\"\n",
    "        \n",
    "weight = float(input(\"Enter your weight in kg: \"))\n",
    "height = float(input(\"Enter your height in meters: \"))\n",
    "bmi = calculate_bmi(weight, height)\n",
    "print(f\"Your BMI is: {bmi:.2f}\")\n",
    "print(f\"Interpretation: {interpret_bmi(bmi)}\")\n",
    "\n"
   ]
  },
  {
   "cell_type": "code",
   "execution_count": 5,
   "id": "72681e35-6a96-4878-bcc7-a3acdbc2e421",
   "metadata": {},
   "outputs": [
    {
     "name": "stdin",
     "output_type": "stream",
     "text": [
      "Enter a year:  1000\n"
     ]
    },
    {
     "name": "stdout",
     "output_type": "stream",
     "text": [
      "1000 is not a leap year.\n"
     ]
    }
   ],
   "source": [
    "def is_leap_year(year):\n",
    "    if (year % 4 == 0 and year % 100 != 0) or (year % 400 == 0):\n",
    "        return True\n",
    "    else:\n",
    "        return False\n",
    "\n",
    "\n",
    "year = int(input(\"Enter a year: \"))\n",
    "if is_leap_year(year):\n",
    "    print(f\"{year} is a leap year.\")\n",
    "else:\n",
    "    print(f\"{year} is not a leap year.\")\n",
    "\n"
   ]
  },
  {
   "cell_type": "code",
   "execution_count": 17,
   "id": "0e28cfb4-38e9-4477-83f1-ffab80ace2ae",
   "metadata": {},
   "outputs": [
    {
     "name": "stdin",
     "output_type": "stream",
     "text": [
      "Enter your Height in cms: 130\n"
     ]
    },
    {
     "name": "stdout",
     "output_type": "stream",
     "text": [
      "Can ride\n"
     ]
    }
   ],
   "source": [
    "height = int(input('Enter your Height in cms:'))\n",
    "if height>120:\n",
    "    print('Can ride')\n",
    "else:\n",
    "    print(\"Can't ride\")"
   ]
  },
  {
   "cell_type": "code",
   "execution_count": 19,
   "id": "8b5f8875-9335-4e54-93ab-84c3843e9bd8",
   "metadata": {},
   "outputs": [
    {
     "name": "stdin",
     "output_type": "stream",
     "text": [
      "Enter your Height in cms: 215\n"
     ]
    },
    {
     "name": "stdout",
     "output_type": "stream",
     "text": [
      "Can ride\n"
     ]
    },
    {
     "name": "stdin",
     "output_type": "stream",
     "text": [
      "Enter Your Age: 20\n"
     ]
    },
    {
     "name": "stdout",
     "output_type": "stream",
     "text": [
      "$12\n"
     ]
    }
   ],
   "source": [
    "height = int(input('Enter your Height in cms:'))\n",
    "if height>120:\n",
    "    print('Can ride')\n",
    "    age = int(input('Enter Your Age:'))\n",
    "    if age>18:\n",
    "        print('$12')\n",
    "    else:\n",
    "        print('$7')\n",
    "else:\n",
    "    print(\"Can't ride\")"
   ]
  },
  {
   "cell_type": "code",
   "execution_count": 21,
   "id": "d1a7b53f-5743-4ea0-88d7-741bf211ef04",
   "metadata": {},
   "outputs": [
    {
     "name": "stdin",
     "output_type": "stream",
     "text": [
      "Enter your Height in cms: 185\n"
     ]
    },
    {
     "name": "stdout",
     "output_type": "stream",
     "text": [
      "Can ride\n"
     ]
    },
    {
     "name": "stdin",
     "output_type": "stream",
     "text": [
      "Enter Your Age: 21\n"
     ]
    },
    {
     "name": "stdout",
     "output_type": "stream",
     "text": [
      "$12\n"
     ]
    }
   ],
   "source": [
    "height = int(input('Enter your Height in cms:'))\n",
    "if height>120:\n",
    "    print('Can ride')\n",
    "    age = int(input('Enter Your Age:'))\n",
    "    if age<12:\n",
    "        print('$5')\n",
    "    if age>18:\n",
    "        print('$12')\n",
    "    elif age>12 and age<=18:\n",
    "        print('$7')\n",
    "else:\n",
    "    print(\"Can't ride\")"
   ]
  },
  {
   "cell_type": "code",
   "execution_count": 1,
   "id": "d87c9c34-3e18-40b4-be2f-491a01e1d266",
   "metadata": {},
   "outputs": [
    {
     "name": "stdin",
     "output_type": "stream",
     "text": [
      "Enter your Height in cms: 175\n"
     ]
    },
    {
     "name": "stdout",
     "output_type": "stream",
     "text": [
      "Can ride\n"
     ]
    },
    {
     "name": "stdin",
     "output_type": "stream",
     "text": [
      "Enter Your Age: 21\n",
      "Do you want Photo(Y/N): N\n"
     ]
    },
    {
     "name": "stdout",
     "output_type": "stream",
     "text": [
      "The Total Bill is $ 12\n"
     ]
    }
   ],
   "source": [
    "height = int(input('Enter your Height in cms:'))\n",
    "if height>120:\n",
    "    print('Can ride')\n",
    "    age = int(input('Enter Your Age:'))\n",
    "    if age<12:\n",
    "        bill=5\n",
    "    if age>18:\n",
    "        bill=12\n",
    "    elif age>12 and age<=18:\n",
    "        bill=7\n",
    "    photo = input('Do you want Photo(Y/N):')\n",
    "    if photo=='Y':\n",
    "        price=3\n",
    "        print('The Total Bill is $',bill+3)\n",
    "    else:\n",
    "        print('The Total Bill is $',bill)\n",
    "else:\n",
    "    print(\"Can't ride\")"
   ]
  },
  {
   "cell_type": "code",
   "execution_count": 27,
   "id": "339a178e-f581-49b4-a20d-dfee42c64109",
   "metadata": {},
   "outputs": [
    {
     "name": "stdin",
     "output_type": "stream",
     "text": [
      "Enter the size of pizza (small, medium, large):  small\n",
      "Do you want pepperoni (yes/no):  no\n",
      "Do you want extra cheese (yes/no):  no\n"
     ]
    },
    {
     "name": "stdout",
     "output_type": "stream",
     "text": [
      "Your final bill is: $15\n"
     ]
    }
   ],
   "source": [
    "def calculate_bill(size, pepperoni, extra_cheese):\n",
    "    bill = 0\n",
    "    \n",
    "    if size == \"small\":\n",
    "        bill += 15\n",
    "        if pepperoni == \"yes\":\n",
    "            bill += 2\n",
    "    elif size == \"medium\":\n",
    "        bill += 20\n",
    "        if pepperoni == \"yes\":\n",
    "            bill += 3\n",
    "    elif size == \"large\":\n",
    "        bill += 25\n",
    "        if pepperoni == \"yes\":\n",
    "            bill += 3\n",
    "    \n",
    "    if extra_cheese == \"yes\":\n",
    "        bill += 1\n",
    "    \n",
    "    return bill\n",
    "\n",
    "\n",
    "size = input(\"Enter the size of pizza (small, medium, large): \").lower()\n",
    "pepperoni = input(\"Do you want pepperoni (yes/no): \").lower()\n",
    "extra_cheese = input(\"Do you want extra cheese (yes/no): \").lower()\n",
    "total_bill = calculate_bill(size, pepperoni, extra_cheese)\n",
    "print(f\"Your final bill is: ${total_bill}\")\n",
    "\n"
   ]
  },
  {
   "cell_type": "code",
   "execution_count": 5,
   "id": "d009a539-3c63-4df8-9c72-04de0641119d",
   "metadata": {},
   "outputs": [
    {
     "name": "stdout",
     "output_type": "stream",
     "text": [
      "You're at a crossroad. Where do you want to go? Type 'left' or 'right'.\n"
     ]
    },
    {
     "name": "stdin",
     "output_type": "stream",
     "text": [
      " left\n"
     ]
    },
    {
     "name": "stdout",
     "output_type": "stream",
     "text": [
      "You've come to a lake. There is an island in the middle of the lake. Type 'wait' to wait for a boat. Type 'swim' to swim across.\n"
     ]
    },
    {
     "name": "stdin",
     "output_type": "stream",
     "text": [
      " wait\n"
     ]
    },
    {
     "name": "stdout",
     "output_type": "stream",
     "text": [
      "You arrive at the island unharmed. There is a house with 3 doors. One red, one yellow, and one blue. Which colour do you choose?\n"
     ]
    },
    {
     "name": "stdin",
     "output_type": "stream",
     "text": [
      " red\n"
     ]
    },
    {
     "name": "stdout",
     "output_type": "stream",
     "text": [
      "It's a room full of fire. Game Over.\n"
     ]
    }
   ],
   "source": [
    "def treasure_map_game():\n",
    "    print(\"You're at a crossroad. Where do you want to go? Type 'left' or 'right'.\")\n",
    "    choice = input().lower()\n",
    "\n",
    "    if choice == \"left\":\n",
    "        print(\"You've come to a lake. There is an island in the middle of the lake. Type 'wait' to wait for a boat. Type 'swim' to swim across.\")\n",
    "        choice = input().lower()\n",
    "\n",
    "        if choice == \"wait\":\n",
    "            print(\"You arrive at the island unharmed. There is a house with 3 doors. One red, one yellow, and one blue. Which colour do you choose?\")\n",
    "            door = input().lower()\n",
    "\n",
    "            if door == \"red\":\n",
    "                print(\"It's a room full of fire. Game Over.\")\n",
    "            elif door == \"yellow\":\n",
    "                print(\"You found the treasure! You Win!\")\n",
    "            elif door == \"blue\":\n",
    "                print(\"You enter a room of beasts. Game Over.\")\n",
    "            else:\n",
    "                print(\"You chose a door that doesn't exist. Game Over.\")\n",
    "        elif choice == \"swim\":\n",
    "            print(\"You get attacked by an angry trout. Game Over.\")\n",
    "        else:\n",
    "            print(\"Invalid choice. Game Over.\")\n",
    "    \n",
    "    elif choice == \"right\":\n",
    "        print(\"You fell into a hole. Game Over.\")\n",
    "    else:\n",
    "        print(\"Invalid choice. Game Over.\")\n",
    "\n",
    "treasure_map_game()\n"
   ]
  },
  {
   "cell_type": "code",
   "execution_count": null,
   "id": "4f48850f-747b-465b-bde8-e9518cfcfa5b",
   "metadata": {},
   "outputs": [],
   "source": []
  }
 ],
 "metadata": {
  "kernelspec": {
   "display_name": "Python [conda env:anaconda3] *",
   "language": "python",
   "name": "conda-env-anaconda3-py"
  },
  "language_info": {
   "codemirror_mode": {
    "name": "ipython",
    "version": 3
   },
   "file_extension": ".py",
   "mimetype": "text/x-python",
   "name": "python",
   "nbconvert_exporter": "python",
   "pygments_lexer": "ipython3",
   "version": "3.12.7"
  }
 },
 "nbformat": 4,
 "nbformat_minor": 5
}
