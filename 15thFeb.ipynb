{
 "cells": [
  {
   "cell_type": "code",
   "execution_count": 24,
   "id": "35f65809-8361-4f0c-8457-e2eb8011b803",
   "metadata": {},
   "outputs": [
    {
     "ename": "NameError",
     "evalue": "name 'self' is not defined",
     "output_type": "error",
     "traceback": [
      "\u001b[1;31m---------------------------------------------------------------------------\u001b[0m",
      "\u001b[1;31mNameError\u001b[0m                                 Traceback (most recent call last)",
      "Cell \u001b[1;32mIn[24], line 1\u001b[0m\n\u001b[1;32m----> 1\u001b[0m \u001b[38;5;28;01mclass\u001b[39;00m \u001b[38;5;21;01mOperations\u001b[39;00m:\n\u001b[0;32m      2\u001b[0m     num\u001b[38;5;241m=\u001b[39m[]\n\u001b[0;32m      3\u001b[0m     \u001b[38;5;28;01mdef\u001b[39;00m \u001b[38;5;21m__init__\u001b[39m(\u001b[38;5;28mself\u001b[39m,opn):\n",
      "Cell \u001b[1;32mIn[24], line 11\u001b[0m, in \u001b[0;36mOperations\u001b[1;34m()\u001b[0m\n\u001b[0;32m      8\u001b[0m         n\u001b[38;5;241m=\u001b[39m\u001b[38;5;28mint\u001b[39m(\u001b[38;5;28minput\u001b[39m(\u001b[38;5;124m\"\u001b[39m\u001b[38;5;124mEnter the numbers: \u001b[39m\u001b[38;5;124m\"\u001b[39m))\n\u001b[0;32m      9\u001b[0m         Operations\u001b[38;5;241m.\u001b[39mnum\u001b[38;5;241m.\u001b[39mappend(n)\n\u001b[1;32m---> 11\u001b[0m \u001b[38;5;28;01mif\u001b[39;00m \u001b[38;5;28mself\u001b[39m\u001b[38;5;241m.\u001b[39mopn \u001b[38;5;241m==\u001b[39m \u001b[38;5;241m1\u001b[39m:\n\u001b[0;32m     12\u001b[0m     \u001b[38;5;28;01mdef\u001b[39;00m \u001b[38;5;21maddition\u001b[39m(\u001b[38;5;28mself\u001b[39m):\n\u001b[0;32m     13\u001b[0m         \u001b[38;5;28;01mreturn\u001b[39;00m \u001b[38;5;28msum\u001b[39m(Operations\u001b[38;5;241m.\u001b[39mnum)\n",
      "\u001b[1;31mNameError\u001b[0m: name 'self' is not defined"
     ]
    }
   ],
   "source": [
    "class Operations:\n",
    "    num=[]\n",
    "    def __init__(self,opn):\n",
    "        self.opn=opn\n",
    "        \n",
    "    def input(self):        \n",
    "        for _ in range:\n",
    "            n=int(input(\"Enter the numbers: \"))\n",
    "            Operations.num.append(n)\n",
    "        \n",
    "    if self.opn == 1:\n",
    "        def addition(self):\n",
    "            return sum(Operations.num)\n",
    "    elif self.opn == 2:    \n",
    "        def substraction(self):\n",
    "            diff=0\n",
    "            for i in Operations.num:\n",
    "                diff-=i\n",
    "            return diff\n",
    "    elif self.opn == 3:                   \n",
    "        def mult(self):\n",
    "             pro=1\n",
    "             for i in Operations.num:\n",
    "                 pro*=i\n",
    "             return pro\n",
    "    elif self.opn==4:\n",
    "        def divide(self):\n",
    "            quo=1\n",
    "            for i in  Operations.num:\n",
    "                quo/=i\n",
    "            return quo\n",
    "\n",
    "\n",
    "o1=Operations(1)\n",
    "o1.addition()"
   ]
  },
  {
   "cell_type": "code",
   "execution_count": 5,
   "id": "e3b93726-28aa-4685-98a1-eaee0380f271",
   "metadata": {
    "scrolled": true
   },
   "outputs": [
    {
     "name": "stdin",
     "output_type": "stream",
     "text": [
      "Choose operation: 1.Addition 2.Subtraction 3.Multiplication 4.Division 5.Exit: \n",
      " 5\n"
     ]
    },
    {
     "name": "stdout",
     "output_type": "stream",
     "text": [
      "Exiting.....Exited \n"
     ]
    }
   ],
   "source": [
    "class Operations:\n",
    "    def __init__(self, opn):\n",
    "        self.opn = opn\n",
    "        self.num = []  \n",
    "    \n",
    "    def input_numbers(self):        \n",
    "        n = int(input(\"Enter how many numbers: \"))\n",
    "        for _ in range(n):\n",
    "            number = int(input(\"Enter a number: \"))\n",
    "            self.num.append(number)\n",
    "    \n",
    "    def addition(self):\n",
    "        return sum(self.num)\n",
    "\n",
    "    def subtraction(self):\n",
    "        if not self.num:\n",
    "            return 0\n",
    "        diff = self.num[0]\n",
    "        for i in self.num[1:]:\n",
    "            diff -= i\n",
    "        return diff\n",
    "\n",
    "    def multiplication(self):\n",
    "        pro = self.num[0]\n",
    "        for i in self.num[1:]:\n",
    "            pro *= i\n",
    "        return pro\n",
    "\n",
    "    def division(self):\n",
    "        if not self.num or 0 in self.num[1:]:  \n",
    "            return \"Error: Division by zero\"\n",
    "        quo = self.num[0]\n",
    "        for i in self.num[1:]:\n",
    "            quo /= i\n",
    "        return quo\n",
    "\n",
    "    def perform_operation(self):\n",
    "        if self.opn == 1:\n",
    "            return self.addition()\n",
    "        elif self.opn == 2:\n",
    "            return self.subtraction()\n",
    "        elif self.opn == 3:\n",
    "            return self.multiplication()\n",
    "        elif self.opn == 4:\n",
    "            return self.division()\n",
    "        else:\n",
    "            return \"Invalid operation\"\n",
    "\n",
    "\n",
    "while(True):\n",
    "    ch = int(input(\"Choose operation: 1.Addition 2.Subtraction 3.Multiplication 4.Division 5.Exit: \\n\"))\n",
    "    if ch==5:\n",
    "        print(\"Exiting.....Exited \")\n",
    "        break\n",
    "    o1 = Operations(ch)\n",
    "    o1.input_numbers()\n",
    "    print(o1.perform_operation())"
   ]
  },
  {
   "cell_type": "code",
   "execution_count": 11,
   "id": "7e770105-5555-4d00-a53a-37e5ea4787da",
   "metadata": {},
   "outputs": [
    {
     "name": "stdin",
     "output_type": "stream",
     "text": [
      "Enter the exp:  80/4\n"
     ]
    },
    {
     "name": "stdout",
     "output_type": "stream",
     "text": [
      "20.0\n"
     ]
    }
   ],
   "source": [
    "print(eval(input(\"Enter the exp: \")))"
   ]
  },
  {
   "cell_type": "code",
   "execution_count": 42,
   "id": "e367a148-066b-4a64-997b-8b7dfc35ae30",
   "metadata": {},
   "outputs": [
    {
     "name": "stdout",
     "output_type": "stream",
     "text": [
      "5\n",
      "0.34\n"
     ]
    }
   ],
   "source": [
    "import random\n",
    "d=random.randint(1,6)\n",
    "print(d)\n",
    "print(format(random.random(),'.2f'))"
   ]
  },
  {
   "cell_type": "code",
   "execution_count": 72,
   "id": "cdc37b25-95bc-4a1a-a4d9-0f4c2e5f7af5",
   "metadata": {},
   "outputs": [
    {
     "data": {
      "text/plain": [
       "'Tail'"
      ]
     },
     "execution_count": 72,
     "metadata": {},
     "output_type": "execute_result"
    }
   ],
   "source": [
    "o=random.randint(0,1)\n",
    "\"Head\" if o else \"Tail\""
   ]
  },
  {
   "cell_type": "code",
   "execution_count": 160,
   "id": "63da3d1d-328d-475a-b1b1-5d173688af25",
   "metadata": {},
   "outputs": [
    {
     "name": "stdout",
     "output_type": "stream",
     "text": [
      "Samkit is Topper\n"
     ]
    }
   ],
   "source": [
    "choice=random.choice([\"Vinayak\",\"Samkit\",\"Shaad\",\"Aadi\",\"Aditya\"])\n",
    "print(choice,\"is Topper\")"
   ]
  },
  {
   "cell_type": "code",
   "execution_count": 188,
   "id": "1485f7cb-4ee3-4f9e-9b5e-d052136072cf",
   "metadata": {},
   "outputs": [
    {
     "name": "stdin",
     "output_type": "stream",
     "text": [
      "Enter the names:  Vinayak,Samkit,Aadi,Aditya,Shaad\n"
     ]
    },
    {
     "name": "stdout",
     "output_type": "stream",
     "text": [
      "Samkit will have to pay \n"
     ]
    }
   ],
   "source": [
    "names=input(\"Enter the names: \").split(\",\")\n",
    "print(names[random.randint(0,len(names))-1],\"will have to pay \")"
   ]
  },
  {
   "cell_type": "code",
   "execution_count": 7,
   "id": "0a9c8a0b-a299-493b-8f77-0e5c3c3f60eb",
   "metadata": {
    "scrolled": true
   },
   "outputs": [
    {
     "name": "stdin",
     "output_type": "stream",
     "text": [
      "Guess the number:  500\n"
     ]
    },
    {
     "name": "stdout",
     "output_type": "stream",
     "text": [
      "Try to enter the smaller one \n",
      "  9  chances remaining\n"
     ]
    },
    {
     "name": "stdin",
     "output_type": "stream",
     "text": [
      "Guess the number:  400\n"
     ]
    },
    {
     "name": "stdout",
     "output_type": "stream",
     "text": [
      "Try to enter the smaller one \n",
      "  8  chances remaining\n"
     ]
    },
    {
     "name": "stdin",
     "output_type": "stream",
     "text": [
      "Guess the number:  100\n"
     ]
    },
    {
     "name": "stdout",
     "output_type": "stream",
     "text": [
      "Try to enter the greater one \n",
      " 7  chances remaining\n"
     ]
    },
    {
     "name": "stdin",
     "output_type": "stream",
     "text": [
      "Guess the number:  300\n"
     ]
    },
    {
     "name": "stdout",
     "output_type": "stream",
     "text": [
      "Try to enter the greater one \n",
      " 6  chances remaining\n"
     ]
    },
    {
     "name": "stdin",
     "output_type": "stream",
     "text": [
      "Guess the number:  270\n"
     ]
    },
    {
     "name": "stdout",
     "output_type": "stream",
     "text": [
      "Try to enter the greater one \n",
      " 5  chances remaining\n"
     ]
    },
    {
     "name": "stdin",
     "output_type": "stream",
     "text": [
      "Guess the number:  287\n"
     ]
    },
    {
     "name": "stdout",
     "output_type": "stream",
     "text": [
      "Try to enter the greater one \n",
      " 4  chances remaining\n"
     ]
    },
    {
     "name": "stdin",
     "output_type": "stream",
     "text": [
      "Guess the number:  293\n"
     ]
    },
    {
     "name": "stdout",
     "output_type": "stream",
     "text": [
      "Try to enter the greater one \n",
      " 3  chances remaining\n"
     ]
    },
    {
     "name": "stdin",
     "output_type": "stream",
     "text": [
      "Guess the number:  297\n"
     ]
    },
    {
     "name": "stdout",
     "output_type": "stream",
     "text": [
      "Try to enter the greater one \n",
      " 2  chances remaining\n"
     ]
    },
    {
     "name": "stdin",
     "output_type": "stream",
     "text": [
      "Guess the number:  298\n"
     ]
    },
    {
     "name": "stdout",
     "output_type": "stream",
     "text": [
      "Try to enter the greater one \n",
      " 1  chances remaining\n"
     ]
    },
    {
     "name": "stdin",
     "output_type": "stream",
     "text": [
      "Guess the number:  299\n"
     ]
    },
    {
     "name": "stdout",
     "output_type": "stream",
     "text": [
      "Try to enter the greater one \n",
      " 0  chances remaining\n",
      "You lost the game!!\n",
      "The original number was:  342\n"
     ]
    }
   ],
   "source": [
    "import random\n",
    "on=random.randint(0,1000)\n",
    "i=1\n",
    "while(i<11):\n",
    "    gn=int(input(\"Guess the number: \"))\n",
    "    if gn==on:\n",
    "        print(\"Congo!!!!, You guessed the correct number!!!\")\n",
    "        break\n",
    "    elif gn>on:\n",
    "        print(\"Try to enter the smaller one \\n \",10-i,\" chances remaining\")\n",
    "    else:\n",
    "        print(\"Try to enter the greater one \\n\",10-i,\" chances remaining\")\n",
    "\n",
    "    i+=1\n",
    "else:\n",
    "    print(\"You lost the game!!\\nThe original number was: \",on)"
   ]
  },
  {
   "cell_type": "code",
   "execution_count": 13,
   "id": "05f4880b-37f7-40d2-997b-3496ffee638d",
   "metadata": {},
   "outputs": [
    {
     "name": "stdout",
     "output_type": "stream",
     "text": [
      "dict_items([(1, 'Vinayak'), (2, 'Samkit')])\n"
     ]
    }
   ],
   "source": [
    "d={1:\"Vinayak\",2:\"Samkit\"}\n",
    "print(d.items())"
   ]
  },
  {
   "cell_type": "code",
   "execution_count": 17,
   "id": "093482d1-5eea-4016-ba88-e19ddb6d6573",
   "metadata": {},
   "outputs": [
    {
     "name": "stdout",
     "output_type": "stream",
     "text": [
      "hhh\n"
     ]
    }
   ],
   "source": [
    "print(\"h\"*3)"
   ]
  },
  {
   "cell_type": "code",
   "execution_count": 29,
   "id": "42519f95-4729-46db-9fb1-2d503b730129",
   "metadata": {},
   "outputs": [
    {
     "name": "stdout",
     "output_type": "stream",
     "text": [
      "Vinayak   21\n"
     ]
    }
   ],
   "source": [
    "dic={\"Stu1\":{\"age\":21,\"name\":\"Vinayak\"},\n",
    "      \"Stu2\":{\"age\":21,\"name\":\"Damn\"}}\n",
    "print(dic[\"Stu1\"][\"name\"],\" \",dic[\"Stu1\"][\"age\"])"
   ]
  },
  {
   "cell_type": "markdown",
   "id": "0bbb7ac7-68ea-4033-8c55-2d0e887972ec",
   "metadata": {},
   "source": [
    "s=\"Vinayak\"\n",
    "s.replace(\"yak\",\" \")"
   ]
  },
  {
   "cell_type": "code",
   "execution_count": 36,
   "id": "230fc3ab-e5c1-468b-bdd7-3d10581424ef",
   "metadata": {},
   "outputs": [
    {
     "name": "stdout",
     "output_type": "stream",
     "text": [
      "Vina \n"
     ]
    }
   ],
   "source": [
    "s=\"Vinayak\" \n",
    "s1=s.replace(\"yak\",\" \")\n",
    "print(s1)"
   ]
  },
  {
   "cell_type": "code",
   "execution_count": 48,
   "id": "c76437d5-bc4b-4657-8663-7d543d713867",
   "metadata": {},
   "outputs": [
    {
     "name": "stdin",
     "output_type": "stream",
     "text": [
      "Enter the pwd:  vinayak@1235\n"
     ]
    },
    {
     "name": "stdout",
     "output_type": "stream",
     "text": [
      "Correct one\n"
     ]
    }
   ],
   "source": [
    "pwd=input(\"Enter the pwd: \")\n",
    "if((len(pwd)<16 and len(pwd)>=8) and (not pwd.isalnum())):\n",
    "    print(\"Correct one\")    \n",
    "else:\n",
    "    print(\"Incorrect one\")    "
   ]
  },
  {
   "cell_type": "code",
   "execution_count": 58,
   "id": "55408061-1609-43be-9a10-c67dd1c3dc5f",
   "metadata": {},
   "outputs": [
    {
     "name": "stdin",
     "output_type": "stream",
     "text": [
      "Enter the String:  hello\n",
      "Enter the Character:  l\n"
     ]
    },
    {
     "name": "stdout",
     "output_type": "stream",
     "text": [
      "4\n"
     ]
    }
   ],
   "source": [
    "st=input(\"Enter the String: \")\n",
    "ch=input(\"Enter the Character: \")\n",
    "n=[]\n",
    "c=0\n",
    "i=0\n",
    "while(i<len(st)-1):\n",
    "    if ch in n:\n",
    "        c+=1\n",
    "    else:\n",
    "        n.append(ch)\n",
    "        c=1\n",
    "    i+=1\n",
    "print(c)"
   ]
  },
  {
   "cell_type": "code",
   "execution_count": 60,
   "id": "80e91395-f849-4afc-bdc7-5ba8035c0594",
   "metadata": {},
   "outputs": [
    {
     "name": "stdin",
     "output_type": "stream",
     "text": [
      "Enter the String:  hello world\n",
      "Enter the Character:  l\n"
     ]
    },
    {
     "name": "stdout",
     "output_type": "stream",
     "text": [
      "The character 'l' appears 3 times in the string.\n"
     ]
    }
   ],
   "source": [
    "st = input(\"Enter the String: \")\n",
    "ch = input(\"Enter the Character: \")\n",
    "\n",
    "c = 0  \n",
    "for i in st:\n",
    "    if i == ch:\n",
    "        c += 1\n",
    "\n",
    "print(f\"The character '{ch}' appears {c} times in the string.\")\n"
   ]
  },
  {
   "cell_type": "code",
   "execution_count": 62,
   "id": "1e031d30-0345-4fc2-bbee-6f10b7a743a7",
   "metadata": {},
   "outputs": [
    {
     "name": "stdin",
     "output_type": "stream",
     "text": [
      "Enter rock, paper, or scissors (or 'exit' to quit):  rock\n"
     ]
    },
    {
     "name": "stdout",
     "output_type": "stream",
     "text": [
      "Computer chose: rock\n",
      "It's a tie!\n"
     ]
    },
    {
     "name": "stdin",
     "output_type": "stream",
     "text": [
      "Enter rock, paper, or scissors (or 'exit' to quit):  paper\n"
     ]
    },
    {
     "name": "stdout",
     "output_type": "stream",
     "text": [
      "Computer chose: paper\n",
      "It's a tie!\n"
     ]
    },
    {
     "name": "stdin",
     "output_type": "stream",
     "text": [
      "Enter rock, paper, or scissors (or 'exit' to quit):  scisscor\n"
     ]
    },
    {
     "name": "stdout",
     "output_type": "stream",
     "text": [
      "Invalid choice, try again!\n"
     ]
    },
    {
     "name": "stdin",
     "output_type": "stream",
     "text": [
      "Enter rock, paper, or scissors (or 'exit' to quit):  scissors\n"
     ]
    },
    {
     "name": "stdout",
     "output_type": "stream",
     "text": [
      "Computer chose: scissors\n",
      "It's a tie!\n"
     ]
    },
    {
     "name": "stdin",
     "output_type": "stream",
     "text": [
      "Enter rock, paper, or scissors (or 'exit' to quit):  paper\n"
     ]
    },
    {
     "name": "stdout",
     "output_type": "stream",
     "text": [
      "Computer chose: rock\n",
      "You win! 🎉\n"
     ]
    },
    {
     "name": "stdin",
     "output_type": "stream",
     "text": [
      "Enter rock, paper, or scissors (or 'exit' to quit):  exit\n"
     ]
    },
    {
     "name": "stdout",
     "output_type": "stream",
     "text": [
      "Thanks for playing! 👋\n"
     ]
    }
   ],
   "source": [
    "import random\n",
    "\n",
    "def get_winner(user, computer):\n",
    "    if user == computer:\n",
    "        return \"It's a tie!\"\n",
    "    elif (user == \"rock\" and computer == \"scissors\") or \\\n",
    "         (user == \"scissors\" and computer == \"paper\") or \\\n",
    "         (user == \"paper\" and computer == \"rock\"):\n",
    "        return \"You win! 🙌\"\n",
    "    else:\n",
    "        return \"Computer wins! \"\n",
    "\n",
    "options = [\"rock\", \"paper\", \"scissors\"]\n",
    "\n",
    "while True:\n",
    "    user_choice = input(\"Enter rock, paper, or scissors (or 'exit' to quit): \").lower()\n",
    "    \n",
    "    if user_choice == \"exit\":\n",
    "        print(\"Thanks for playing! ,👍\")\n",
    "        break\n",
    "\n",
    "    if user_choice not in options:\n",
    "        print(\"Invalid choice, try again!\")\n",
    "        continue\n",
    "\n",
    "    computer_choice = random.choice(options)\n",
    "    \n",
    "    print(f\"Computer chose: {computer_choice}\")\n",
    "    print(get_winner(user_choice, computer_choice))\n"
   ]
  },
  {
   "cell_type": "code",
   "execution_count": null,
   "id": "93c76a80-5c2f-4f97-87d8-e4084a40cd11",
   "metadata": {},
   "outputs": [],
   "source": []
  }
 ],
 "metadata": {
  "kernelspec": {
   "display_name": "Python [conda env:anaconda3] *",
   "language": "python",
   "name": "conda-env-anaconda3-py"
  },
  "language_info": {
   "codemirror_mode": {
    "name": "ipython",
    "version": 3
   },
   "file_extension": ".py",
   "mimetype": "text/x-python",
   "name": "python",
   "nbconvert_exporter": "python",
   "pygments_lexer": "ipython3",
   "version": "3.12.7"
  }
 },
 "nbformat": 4,
 "nbformat_minor": 5
}
